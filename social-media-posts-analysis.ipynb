{
 "cells": [
  {
   "cell_type": "code",
   "execution_count": 13,
   "id": "049c6507-b39e-40d7-a70f-123fb0480df7",
   "metadata": {},
   "outputs": [],
   "source": [
    "# Import the libraries required\n",
    "import pandas as pd\n",
    "import numpy as np\n",
    "import matplotlib.pyplot as plt\n",
    "import seaborn as sea\n",
    "import random"
   ]
  },
  {
   "cell_type": "code",
   "execution_count": 15,
   "id": "5141c2dc-a685-45f0-b97c-56e2cef517a6",
   "metadata": {},
   "outputs": [],
   "source": [
    "# Create a list of categories\n",
    "categories=['Food','Travel','Fashion','Fitness','Music','Culture','Family','Health']\n",
    "\n",
    "# Create a dictionary with random categories and likes\n",
    "data={\n",
    "    'Date':pd.date_range('2024-01-01', periods=500),\n",
    "    'Category': [random.choice(categories) for _ in range(500)],\n",
    "    'Likes':np.random.randint(0,10000, size=500)\n",
    "    }\n"
   ]
  },
  {
   "cell_type": "code",
   "execution_count": 60,
   "id": "0024ec17-fa37-4d9d-9d5c-fe1ad956d394",
   "metadata": {},
   "outputs": [
    {
     "data": {
      "text/html": [
       "<div>\n",
       "<style scoped>\n",
       "    .dataframe tbody tr th:only-of-type {\n",
       "        vertical-align: middle;\n",
       "    }\n",
       "\n",
       "    .dataframe tbody tr th {\n",
       "        vertical-align: top;\n",
       "    }\n",
       "\n",
       "    .dataframe thead th {\n",
       "        text-align: right;\n",
       "    }\n",
       "</style>\n",
       "<table border=\"1\" class=\"dataframe\">\n",
       "  <thead>\n",
       "    <tr style=\"text-align: right;\">\n",
       "      <th></th>\n",
       "      <th>Date</th>\n",
       "      <th>Category</th>\n",
       "      <th>Likes</th>\n",
       "    </tr>\n",
       "  </thead>\n",
       "  <tbody>\n",
       "    <tr>\n",
       "      <th>0</th>\n",
       "      <td>2024-01-01</td>\n",
       "      <td>Fitness</td>\n",
       "      <td>3541</td>\n",
       "    </tr>\n",
       "    <tr>\n",
       "      <th>1</th>\n",
       "      <td>2024-01-02</td>\n",
       "      <td>Health</td>\n",
       "      <td>2350</td>\n",
       "    </tr>\n",
       "    <tr>\n",
       "      <th>2</th>\n",
       "      <td>2024-01-03</td>\n",
       "      <td>Family</td>\n",
       "      <td>6326</td>\n",
       "    </tr>\n",
       "    <tr>\n",
       "      <th>3</th>\n",
       "      <td>2024-01-04</td>\n",
       "      <td>Fitness</td>\n",
       "      <td>1445</td>\n",
       "    </tr>\n",
       "    <tr>\n",
       "      <th>4</th>\n",
       "      <td>2024-01-05</td>\n",
       "      <td>Culture</td>\n",
       "      <td>9995</td>\n",
       "    </tr>\n",
       "  </tbody>\n",
       "</table>\n",
       "</div>"
      ],
      "text/plain": [
       "        Date Category  Likes\n",
       "0 2024-01-01  Fitness   3541\n",
       "1 2024-01-02   Health   2350\n",
       "2 2024-01-03   Family   6326\n",
       "3 2024-01-04  Fitness   1445\n",
       "4 2024-01-05  Culture   9995"
      ]
     },
     "execution_count": 60,
     "metadata": {},
     "output_type": "execute_result"
    }
   ],
   "source": [
    "#Create a dataframe using pandas library\n",
    "df=pd.DataFrame(data)\n",
    "# use head method to check for first 5 rows\n",
    "df.head()"
   ]
  },
  {
   "cell_type": "code",
   "execution_count": 61,
   "id": "8f773ba0-2692-4ba9-a7db-40a02a27e721",
   "metadata": {},
   "outputs": [
    {
     "name": "stdout",
     "output_type": "stream",
     "text": [
      "<class 'pandas.core.frame.DataFrame'>\n",
      "RangeIndex: 500 entries, 0 to 499\n",
      "Data columns (total 3 columns):\n",
      " #   Column    Non-Null Count  Dtype         \n",
      "---  ------    --------------  -----         \n",
      " 0   Date      500 non-null    datetime64[ns]\n",
      " 1   Category  500 non-null    object        \n",
      " 2   Likes     500 non-null    int32         \n",
      "dtypes: datetime64[ns](1), int32(1), object(1)\n",
      "memory usage: 9.9+ KB\n"
     ]
    }
   ],
   "source": [
    "# use info method to get  information about the dataframe including memory usage\n",
    "df.info()"
   ]
  },
  {
   "cell_type": "code",
   "execution_count": 62,
   "id": "3fa6dce5-da8f-417f-bb28-a7492a5774df",
   "metadata": {},
   "outputs": [
    {
     "data": {
      "text/html": [
       "<div>\n",
       "<style scoped>\n",
       "    .dataframe tbody tr th:only-of-type {\n",
       "        vertical-align: middle;\n",
       "    }\n",
       "\n",
       "    .dataframe tbody tr th {\n",
       "        vertical-align: top;\n",
       "    }\n",
       "\n",
       "    .dataframe thead th {\n",
       "        text-align: right;\n",
       "    }\n",
       "</style>\n",
       "<table border=\"1\" class=\"dataframe\">\n",
       "  <thead>\n",
       "    <tr style=\"text-align: right;\">\n",
       "      <th></th>\n",
       "      <th>Date</th>\n",
       "      <th>Likes</th>\n",
       "    </tr>\n",
       "  </thead>\n",
       "  <tbody>\n",
       "    <tr>\n",
       "      <th>count</th>\n",
       "      <td>500</td>\n",
       "      <td>500.000000</td>\n",
       "    </tr>\n",
       "    <tr>\n",
       "      <th>mean</th>\n",
       "      <td>2024-09-06 12:00:00</td>\n",
       "      <td>4958.226000</td>\n",
       "    </tr>\n",
       "    <tr>\n",
       "      <th>min</th>\n",
       "      <td>2024-01-01 00:00:00</td>\n",
       "      <td>72.000000</td>\n",
       "    </tr>\n",
       "    <tr>\n",
       "      <th>25%</th>\n",
       "      <td>2024-05-04 18:00:00</td>\n",
       "      <td>2477.750000</td>\n",
       "    </tr>\n",
       "    <tr>\n",
       "      <th>50%</th>\n",
       "      <td>2024-09-06 12:00:00</td>\n",
       "      <td>4994.000000</td>\n",
       "    </tr>\n",
       "    <tr>\n",
       "      <th>75%</th>\n",
       "      <td>2025-01-09 06:00:00</td>\n",
       "      <td>7295.000000</td>\n",
       "    </tr>\n",
       "    <tr>\n",
       "      <th>max</th>\n",
       "      <td>2025-05-14 00:00:00</td>\n",
       "      <td>9995.000000</td>\n",
       "    </tr>\n",
       "    <tr>\n",
       "      <th>std</th>\n",
       "      <td>NaN</td>\n",
       "      <td>2844.008737</td>\n",
       "    </tr>\n",
       "  </tbody>\n",
       "</table>\n",
       "</div>"
      ],
      "text/plain": [
       "                      Date        Likes\n",
       "count                  500   500.000000\n",
       "mean   2024-09-06 12:00:00  4958.226000\n",
       "min    2024-01-01 00:00:00    72.000000\n",
       "25%    2024-05-04 18:00:00  2477.750000\n",
       "50%    2024-09-06 12:00:00  4994.000000\n",
       "75%    2025-01-09 06:00:00  7295.000000\n",
       "max    2025-05-14 00:00:00  9995.000000\n",
       "std                    NaN  2844.008737"
      ]
     },
     "execution_count": 62,
     "metadata": {},
     "output_type": "execute_result"
    }
   ],
   "source": [
    "# use describe to get count, mean, min, max and standard deviation along with percentiles\n",
    "df.describe()"
   ]
  },
  {
   "cell_type": "code",
   "execution_count": 63,
   "id": "cbfc77a2-f62b-487f-8121-1baea4d3057c",
   "metadata": {},
   "outputs": [
    {
     "data": {
      "text/plain": [
       "Category\n",
       "Fashion    74\n",
       "Culture    67\n",
       "Fitness    67\n",
       "Music      64\n",
       "Family     61\n",
       "Travel     57\n",
       "Food       56\n",
       "Health     54\n",
       "Name: count, dtype: int64"
      ]
     },
     "execution_count": 63,
     "metadata": {},
     "output_type": "execute_result"
    }
   ],
   "source": [
    "# use value_counts methods to count occurences of each category in data\n",
    "df.value_counts(\"Category\")"
   ]
  },
  {
   "cell_type": "code",
   "execution_count": 102,
   "id": "cc1c49d3-d4d4-4793-b7d0-497cfe4db480",
   "metadata": {},
   "outputs": [
    {
     "data": {
      "text/html": [
       "<div>\n",
       "<style scoped>\n",
       "    .dataframe tbody tr th:only-of-type {\n",
       "        vertical-align: middle;\n",
       "    }\n",
       "\n",
       "    .dataframe tbody tr th {\n",
       "        vertical-align: top;\n",
       "    }\n",
       "\n",
       "    .dataframe thead th {\n",
       "        text-align: right;\n",
       "    }\n",
       "</style>\n",
       "<table border=\"1\" class=\"dataframe\">\n",
       "  <thead>\n",
       "    <tr style=\"text-align: right;\">\n",
       "      <th></th>\n",
       "      <th>Date</th>\n",
       "      <th>Category</th>\n",
       "      <th>Likes</th>\n",
       "    </tr>\n",
       "  </thead>\n",
       "  <tbody>\n",
       "    <tr>\n",
       "      <th>0</th>\n",
       "      <td>2024-01-01</td>\n",
       "      <td>Fitness</td>\n",
       "      <td>3541</td>\n",
       "    </tr>\n",
       "    <tr>\n",
       "      <th>1</th>\n",
       "      <td>2024-01-02</td>\n",
       "      <td>Health</td>\n",
       "      <td>2350</td>\n",
       "    </tr>\n",
       "    <tr>\n",
       "      <th>2</th>\n",
       "      <td>2024-01-03</td>\n",
       "      <td>Family</td>\n",
       "      <td>6326</td>\n",
       "    </tr>\n",
       "    <tr>\n",
       "      <th>3</th>\n",
       "      <td>2024-01-04</td>\n",
       "      <td>Fitness</td>\n",
       "      <td>1445</td>\n",
       "    </tr>\n",
       "    <tr>\n",
       "      <th>4</th>\n",
       "      <td>2024-01-05</td>\n",
       "      <td>Culture</td>\n",
       "      <td>9995</td>\n",
       "    </tr>\n",
       "    <tr>\n",
       "      <th>...</th>\n",
       "      <td>...</td>\n",
       "      <td>...</td>\n",
       "      <td>...</td>\n",
       "    </tr>\n",
       "    <tr>\n",
       "      <th>495</th>\n",
       "      <td>2025-05-10</td>\n",
       "      <td>Fitness</td>\n",
       "      <td>9834</td>\n",
       "    </tr>\n",
       "    <tr>\n",
       "      <th>496</th>\n",
       "      <td>2025-05-11</td>\n",
       "      <td>Fitness</td>\n",
       "      <td>9812</td>\n",
       "    </tr>\n",
       "    <tr>\n",
       "      <th>497</th>\n",
       "      <td>2025-05-12</td>\n",
       "      <td>Fitness</td>\n",
       "      <td>5221</td>\n",
       "    </tr>\n",
       "    <tr>\n",
       "      <th>498</th>\n",
       "      <td>2025-05-13</td>\n",
       "      <td>Family</td>\n",
       "      <td>7537</td>\n",
       "    </tr>\n",
       "    <tr>\n",
       "      <th>499</th>\n",
       "      <td>2025-05-14</td>\n",
       "      <td>Travel</td>\n",
       "      <td>7440</td>\n",
       "    </tr>\n",
       "  </tbody>\n",
       "</table>\n",
       "<p>500 rows × 3 columns</p>\n",
       "</div>"
      ],
      "text/plain": [
       "          Date Category  Likes\n",
       "0   2024-01-01  Fitness   3541\n",
       "1   2024-01-02   Health   2350\n",
       "2   2024-01-03   Family   6326\n",
       "3   2024-01-04  Fitness   1445\n",
       "4   2024-01-05  Culture   9995\n",
       "..         ...      ...    ...\n",
       "495 2025-05-10  Fitness   9834\n",
       "496 2025-05-11  Fitness   9812\n",
       "497 2025-05-12  Fitness   5221\n",
       "498 2025-05-13   Family   7537\n",
       "499 2025-05-14   Travel   7440\n",
       "\n",
       "[500 rows x 3 columns]"
      ]
     },
     "execution_count": 102,
     "metadata": {},
     "output_type": "execute_result"
    }
   ],
   "source": [
    "# use dropna to drop any rows that contain null values\n",
    "df1=df.dropna(subset=[\"Category\", \"Date\"])\n",
    "df1"
   ]
  },
  {
   "cell_type": "code",
   "execution_count": 104,
   "id": "3060022e-3d4b-48fb-bc38-944b50cbf496",
   "metadata": {},
   "outputs": [
    {
     "data": {
      "text/html": [
       "<div>\n",
       "<style scoped>\n",
       "    .dataframe tbody tr th:only-of-type {\n",
       "        vertical-align: middle;\n",
       "    }\n",
       "\n",
       "    .dataframe tbody tr th {\n",
       "        vertical-align: top;\n",
       "    }\n",
       "\n",
       "    .dataframe thead th {\n",
       "        text-align: right;\n",
       "    }\n",
       "</style>\n",
       "<table border=\"1\" class=\"dataframe\">\n",
       "  <thead>\n",
       "    <tr style=\"text-align: right;\">\n",
       "      <th></th>\n",
       "      <th>Date</th>\n",
       "      <th>Category</th>\n",
       "      <th>Likes</th>\n",
       "    </tr>\n",
       "  </thead>\n",
       "  <tbody>\n",
       "    <tr>\n",
       "      <th>0</th>\n",
       "      <td>2024-01-01</td>\n",
       "      <td>Fitness</td>\n",
       "      <td>3541</td>\n",
       "    </tr>\n",
       "    <tr>\n",
       "      <th>1</th>\n",
       "      <td>2024-01-02</td>\n",
       "      <td>Health</td>\n",
       "      <td>2350</td>\n",
       "    </tr>\n",
       "    <tr>\n",
       "      <th>2</th>\n",
       "      <td>2024-01-03</td>\n",
       "      <td>Family</td>\n",
       "      <td>6326</td>\n",
       "    </tr>\n",
       "    <tr>\n",
       "      <th>3</th>\n",
       "      <td>2024-01-04</td>\n",
       "      <td>Fitness</td>\n",
       "      <td>1445</td>\n",
       "    </tr>\n",
       "    <tr>\n",
       "      <th>4</th>\n",
       "      <td>2024-01-05</td>\n",
       "      <td>Culture</td>\n",
       "      <td>9995</td>\n",
       "    </tr>\n",
       "    <tr>\n",
       "      <th>...</th>\n",
       "      <td>...</td>\n",
       "      <td>...</td>\n",
       "      <td>...</td>\n",
       "    </tr>\n",
       "    <tr>\n",
       "      <th>495</th>\n",
       "      <td>2025-05-10</td>\n",
       "      <td>Fitness</td>\n",
       "      <td>9834</td>\n",
       "    </tr>\n",
       "    <tr>\n",
       "      <th>496</th>\n",
       "      <td>2025-05-11</td>\n",
       "      <td>Fitness</td>\n",
       "      <td>9812</td>\n",
       "    </tr>\n",
       "    <tr>\n",
       "      <th>497</th>\n",
       "      <td>2025-05-12</td>\n",
       "      <td>Fitness</td>\n",
       "      <td>5221</td>\n",
       "    </tr>\n",
       "    <tr>\n",
       "      <th>498</th>\n",
       "      <td>2025-05-13</td>\n",
       "      <td>Family</td>\n",
       "      <td>7537</td>\n",
       "    </tr>\n",
       "    <tr>\n",
       "      <th>499</th>\n",
       "      <td>2025-05-14</td>\n",
       "      <td>Travel</td>\n",
       "      <td>7440</td>\n",
       "    </tr>\n",
       "  </tbody>\n",
       "</table>\n",
       "<p>500 rows × 3 columns</p>\n",
       "</div>"
      ],
      "text/plain": [
       "          Date Category  Likes\n",
       "0   2024-01-01  Fitness   3541\n",
       "1   2024-01-02   Health   2350\n",
       "2   2024-01-03   Family   6326\n",
       "3   2024-01-04  Fitness   1445\n",
       "4   2024-01-05  Culture   9995\n",
       "..         ...      ...    ...\n",
       "495 2025-05-10  Fitness   9834\n",
       "496 2025-05-11  Fitness   9812\n",
       "497 2025-05-12  Fitness   5221\n",
       "498 2025-05-13   Family   7537\n",
       "499 2025-05-14   Travel   7440\n",
       "\n",
       "[500 rows x 3 columns]"
      ]
     },
     "execution_count": 104,
     "metadata": {},
     "output_type": "execute_result"
    }
   ],
   "source": [
    "# Use drop_duplicates method to remove any duplicate data, \n",
    "# in here it would mean any rows that have same date, categoryand number of likes \n",
    "\n",
    "df1.drop_duplicates(inplace = True)\n",
    "df1"
   ]
  },
  {
   "cell_type": "code",
   "execution_count": 67,
   "id": "96ae9dd5-2694-4ff9-94b7-8c02c6237678",
   "metadata": {},
   "outputs": [],
   "source": [
    "# convert string to datetime format\n",
    "df1['Date'] = pd.to_datetime(df1['Date'])"
   ]
  },
  {
   "cell_type": "code",
   "execution_count": 82,
   "id": "de587af1-a881-4e5a-986c-eaaf62f74f8d",
   "metadata": {},
   "outputs": [
    {
     "data": {
      "text/plain": [
       "Date        datetime64[ns]\n",
       "Category            object\n",
       "Likes                int32\n",
       "dtype: object"
      ]
     },
     "execution_count": 82,
     "metadata": {},
     "output_type": "execute_result"
    }
   ],
   "source": [
    "# convert likes to integer datatype\n",
    "df1.astype({'Likes':'int32'}).dtypes"
   ]
  },
  {
   "cell_type": "code",
   "execution_count": 97,
   "id": "eac5377a-b8e5-4f10-aed7-9fc465546669",
   "metadata": {},
   "outputs": [
    {
     "data": {
      "text/plain": [
       "<Axes: xlabel='Likes', ylabel='Count'>"
      ]
     },
     "execution_count": 97,
     "metadata": {},
     "output_type": "execute_result"
    },
    {
     "data": {
      "image/png": "[encoded data removed]",
      "text/plain": [
       "<Figure size 640x480 with 1 Axes>"
      ]
     },
     "metadata": {},
     "output_type": "display_data"
    }
   ],
   "source": [
    "# create a histogram to visualize likes\n",
    "sea.histplot(data=df1, x='Likes')"
   ]
  },
  {
   "cell_type": "code",
   "execution_count": 76,
   "id": "54795072-da0b-4bac-ab56-fdf67b6fbbbc",
   "metadata": {},
   "outputs": [
    {
     "data": {
      "text/plain": [
       "<Axes: xlabel='Category', ylabel='Likes'>"
      ]
     },
     "execution_count": 76,
     "metadata": {},
     "output_type": "execute_result"
    },
    {
     "data": {
      "image/png": "[encoded data removed]",
      "text/plain": [
       "<Figure size 640x480 with 1 Axes>"
      ]
     },
     "metadata": {},
     "output_type": "display_data"
    }
   ],
   "source": [
    "# create a boxplot to visualize the likes for each category\n",
    "sea.boxplot(df1, x=df1['Category'], y=df1['Likes'])"
   ]
  },
  {
   "cell_type": "markdown",
   "id": "3f5051cb-1841-4ed2-ac47-950070550150",
   "metadata": {},
   "source": [
    "<p>This box plot shows that Travel, Music, Family have high median. Lower median categories are Food and Health. Categories Culture, Fashion and Music have steady medians. Fitness and Food categories show wide Interquartile range.</p>"
   ]
  },
  {
   "cell_type": "code",
   "execution_count": 105,
   "id": "1a56928d-c075-47af-966f-5800094d0e46",
   "metadata": {},
   "outputs": [
    {
     "data": {
      "text/plain": [
       "np.float64(4958.226)"
      ]
     },
     "execution_count": 105,
     "metadata": {},
     "output_type": "execute_result"
    }
   ],
   "source": [
    "# check mean value of all likes\n",
    "df1['Likes'].mean()"
   ]
  },
  {
   "cell_type": "code",
   "execution_count": 106,
   "id": "115328ce-33a0-4ab5-8abd-02cd0152f70d",
   "metadata": {},
   "outputs": [
    {
     "data": {
      "text/html": [
       "<div>\n",
       "<style scoped>\n",
       "    .dataframe tbody tr th:only-of-type {\n",
       "        vertical-align: middle;\n",
       "    }\n",
       "\n",
       "    .dataframe tbody tr th {\n",
       "        vertical-align: top;\n",
       "    }\n",
       "\n",
       "    .dataframe thead th {\n",
       "        text-align: right;\n",
       "    }\n",
       "</style>\n",
       "<table border=\"1\" class=\"dataframe\">\n",
       "  <thead>\n",
       "    <tr style=\"text-align: right;\">\n",
       "      <th></th>\n",
       "      <th>Date</th>\n",
       "      <th>Likes</th>\n",
       "    </tr>\n",
       "    <tr>\n",
       "      <th>Category</th>\n",
       "      <th></th>\n",
       "      <th></th>\n",
       "    </tr>\n",
       "  </thead>\n",
       "  <tbody>\n",
       "    <tr>\n",
       "      <th>Culture</th>\n",
       "      <td>2024-09-15 17:11:38.507462656</td>\n",
       "      <td>5167.626866</td>\n",
       "    </tr>\n",
       "    <tr>\n",
       "      <th>Family</th>\n",
       "      <td>2024-09-04 01:58:01.967213056</td>\n",
       "      <td>5497.360656</td>\n",
       "    </tr>\n",
       "    <tr>\n",
       "      <th>Fashion</th>\n",
       "      <td>2024-08-29 04:32:25.945945856</td>\n",
       "      <td>4678.094595</td>\n",
       "    </tr>\n",
       "    <tr>\n",
       "      <th>Fitness</th>\n",
       "      <td>2024-08-22 09:40:17.910447872</td>\n",
       "      <td>4770.522388</td>\n",
       "    </tr>\n",
       "    <tr>\n",
       "      <th>Food</th>\n",
       "      <td>2024-09-08 05:08:34.285714176</td>\n",
       "      <td>4164.357143</td>\n",
       "    </tr>\n",
       "    <tr>\n",
       "      <th>Health</th>\n",
       "      <td>2024-09-04 03:33:20.000000000</td>\n",
       "      <td>4532.833333</td>\n",
       "    </tr>\n",
       "    <tr>\n",
       "      <th>Music</th>\n",
       "      <td>2024-10-02 10:07:30.000000000</td>\n",
       "      <td>5303.593750</td>\n",
       "    </tr>\n",
       "    <tr>\n",
       "      <th>Travel</th>\n",
       "      <td>2024-08-29 05:28:25.263158016</td>\n",
       "      <td>5514.596491</td>\n",
       "    </tr>\n",
       "  </tbody>\n",
       "</table>\n",
       "</div>"
      ],
      "text/plain": [
       "                                  Date        Likes\n",
       "Category                                           \n",
       "Culture  2024-09-15 17:11:38.507462656  5167.626866\n",
       "Family   2024-09-04 01:58:01.967213056  5497.360656\n",
       "Fashion  2024-08-29 04:32:25.945945856  4678.094595\n",
       "Fitness  2024-08-22 09:40:17.910447872  4770.522388\n",
       "Food     2024-09-08 05:08:34.285714176  4164.357143\n",
       "Health   2024-09-04 03:33:20.000000000  4532.833333\n",
       "Music    2024-10-02 10:07:30.000000000  5303.593750\n",
       "Travel   2024-08-29 05:28:25.263158016  5514.596491"
      ]
     },
     "execution_count": 106,
     "metadata": {},
     "output_type": "execute_result"
    }
   ],
   "source": [
    "# Check the mean for each category\n",
    "df1_mean = df1.groupby(['Category']).mean()\n",
    "df1_mean"
   ]
  },
  {
   "cell_type": "markdown",
   "id": "59a9989f-d635-489e-beca-af369ebdf3d9",
   "metadata": {},
   "source": [
    "# Conclusion"
   ]
  },
  {
   "cell_type": "markdown",
   "id": "3f30cf42-15e2-4a0b-a76a-5fe43ce3f537",
   "metadata": {},
   "source": [
    " <p>We conclude that categories Travel, Music, Family, Culture consistently got higher likes, so continue to add new posts in these categories to get consistent user engagement. Poor performing categories are Food, Health, Fashion, so investigating further about the content, targeted audience and engagement timing will provide more insights about the reason for poor performance of these categories. A/B testing can also help to understand user interest in the content. Fitness is in the middle position, trying out refreshed content or the ways it is being presented might help here.</p>"
   ]
  },
  {
   "cell_type": "code",
   "execution_count": null,
   "id": "f68440bf-4c8d-4b40-a505-46f6affa05f0",
   "metadata": {},
   "outputs": [],
   "source": []
  }
 ],
 "metadata": {
  "kernelspec": {
   "display_name": "Python 3 (ipykernel)",
   "language": "python",
   "name": "python3"
  },
  "language_info": {
   "codemirror_mode": {
    "name": "ipython",
    "version": 3
   },
   "file_extension": ".py",
   "mimetype": "text/x-python",
   "name": "python",
   "nbconvert_exporter": "python",
   "pygments_lexer": "ipython3",
   "version": "3.12.4"
  }
 },
 "nbformat": 4,
 "nbformat_minor": 5
}
